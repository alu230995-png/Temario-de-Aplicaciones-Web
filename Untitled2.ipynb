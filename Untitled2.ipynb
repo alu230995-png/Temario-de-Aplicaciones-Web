{
  "nbformat": 4,
  "nbformat_minor": 0,
  "metadata": {
    "colab": {
      "provenance": [],
      "authorship_tag": "ABX9TyO5Z9CSCLBX/Sc3tBa8FrXM",
      "include_colab_link": true
    },
    "kernelspec": {
      "name": "python3",
      "display_name": "Python 3"
    },
    "language_info": {
      "name": "python"
    }
  },
  "cells": [
    {
      "cell_type": "markdown",
      "metadata": {
        "id": "view-in-github",
        "colab_type": "text"
      },
      "source": [
        "<a href=\"https://colab.research.google.com/github/alu230995-png/Temario-de-Aplicaciones-Web/blob/main/Untitled2.ipynb\" target=\"_parent\"><img src=\"https://colab.research.google.com/assets/colab-badge.svg\" alt=\"Open In Colab\"/></a>"
      ]
    },
    {
      "cell_type": "markdown",
      "source": [
        "Codigo 1: Imprimir nombre, paterno y materno de Alumno con"
      ],
      "metadata": {
        "id": "XPx1ZQtD0pzm"
      }
    },
    {
      "cell_type": "code",
      "source": [
        "name = (input(\"Ingresa tu nombre: \"))\n",
        "Ap = (input(\"Ingresa tu apellido paterno: \"))\n",
        "Am = (input(\"Ingresa tu apellido materno: \"))\n",
        "print (\"Alumno: \" + name + \" \" + Ap + \" \" + Am + \" Registrado con exito\")"
      ],
      "metadata": {
        "colab": {
          "base_uri": "https://localhost:8080/"
        },
        "id": "Fg__DI0N0sB2",
        "outputId": "21022923-6658-44b6-93a9-8b7ccc744e0b"
      },
      "execution_count": 4,
      "outputs": [
        {
          "output_type": "stream",
          "name": "stdout",
          "text": [
            "Ingresa tu nombre: Ian\n",
            "Ingresa tu apellido paterno: Portillo\n",
            "Ingresa tu apellido materno: Escobedo\n",
            "Alumno: Ian Portillo Escobedo Registrado con exito\n"
          ]
        }
      ]
    },
    {
      "cell_type": "markdown",
      "source": [
        "Capturar 2: números decimales e imprimir Suma"
      ],
      "metadata": {
        "id": "zBWdahUY1iAE"
      }
    },
    {
      "cell_type": "code",
      "source": [
        "num1 = float(input (\"Ingresa el primer numero: \"))\n",
        "num2 = float(input (\"Ingresa el primer numero: \"))\n",
        "\n",
        "print (\"La suma es: \", str(num1 + num2))\n"
      ],
      "metadata": {
        "colab": {
          "base_uri": "https://localhost:8080/"
        },
        "id": "wmD2ScI11lCc",
        "outputId": "b9e56d83-be0a-4b52-9d94-a99f1719eb9c"
      },
      "execution_count": 5,
      "outputs": [
        {
          "output_type": "stream",
          "name": "stdout",
          "text": [
            "Ingresa el primer numero: 5\n",
            "Ingresa el primer numero: 5.5\n",
            "La suma es:  10.5\n"
          ]
        }
      ]
    },
    {
      "cell_type": "markdown",
      "source": [
        "Programa 3: Calcular el área de un círculo"
      ],
      "metadata": {
        "id": "Sb8OeLKY2CmC"
      }
    },
    {
      "cell_type": "code",
      "source": [
        "radio = float(input (\"Ingresa el radio del circulo: \"))\n",
        "pi = 3.1416\n",
        "\n",
        "print (\"El area del circulo es: \", str(pi * (radio ** 2)))"
      ],
      "metadata": {
        "colab": {
          "base_uri": "https://localhost:8080/"
        },
        "id": "80NuyF1u2D9i",
        "outputId": "2402abb1-4a65-4cc9-d191-b88430b5a118"
      },
      "execution_count": 6,
      "outputs": [
        {
          "output_type": "stream",
          "name": "stdout",
          "text": [
            "Ingresa el radio del circulo: 20\n",
            "El area del circulo es:  1256.6399999999999\n"
          ]
        }
      ]
    },
    {
      "cell_type": "markdown",
      "source": [
        "Programa 4: Codigo del semestre pasado"
      ],
      "metadata": {
        "id": "MkEhXva12YD6"
      }
    },
    {
      "cell_type": "code",
      "source": [
        "##Calcualdora simple: Buqule principal: Cuatro opciones (Sumar, Multiplicar, Restar y dividir, salir) colocar dos numeros y volver a iniciar\n",
        "control = True\n",
        "\n",
        "while (control) :\n",
        "  print(\"Bienvenido a la calculadora simple\")\n",
        "  print(\"Sumar 1)\")\n",
        "  print(\"Restar 2)\")\n",
        "  print(\"Multiplicar 3)\")\n",
        "  print(\"Dividir 4)\")\n",
        "  print(\"Salir 5)\")\n",
        "  opcion = int(input(\"Ingresa la opcion que desas utilizar:\"))\n",
        "\n",
        "  if (opcion == 1):\n",
        "    num1 = float(input (\"Ingresa el primer numero: \"))\n",
        "    num2 = float(input (\"Ingresa el primer numero: \"))\n",
        "    print (\"La suma es: \", str(num1 + num2) + \"\\n\")\n",
        "\n",
        "  if (opcion == 2):\n",
        "    num1 = float(input (\"Ingresa el primer numero: \"))\n",
        "    num2 = float(input (\"Ingresa el primer numero: \"))\n",
        "    print (\"La resta es: \", str(num1 - num2) + \"\\n\")\n",
        "\n",
        "  if (opcion == 3):\n",
        "    num1 = float(input (\"Ingresa el primer numero: \"))\n",
        "    num2 = float(input (\"Ingresa el primer numero: \"))\n",
        "    print (\"La multipliacion es: \", str(num1 * num2) + \"\\n\")\n",
        "\n",
        "  if (opcion == 4):\n",
        "    num1 = float(input (\"Ingresa el primer numero: \"))\n",
        "    num2 = float(input (\"Ingresa el primer numero: \"))\n",
        "    print (\"La divicion es: \", str(num1 / num2) + \"\\n\")\n",
        "\n",
        "  if (opcion == 5):\n",
        "    print (\"Gracias por utilizar la calculadora simple\")\n",
        "    control = False"
      ],
      "metadata": {
        "colab": {
          "base_uri": "https://localhost:8080/"
        },
        "id": "MaQg3kqV2lOh",
        "outputId": "b98f3edd-cf09-42ef-ed5d-0c73aa951750"
      },
      "execution_count": 19,
      "outputs": [
        {
          "output_type": "stream",
          "name": "stdout",
          "text": [
            "Bienvenido a la calculadora simple\n",
            "Sumar 1)\n",
            "Restar 2)\n",
            "Multiplicar 3)\n",
            "Dividir 4)\n",
            "Salir 5)\n",
            "Ingresa la opcion que desas utilizar:1\n",
            "Ingresa el primer numero: 5\n",
            "Ingresa el primer numero: 5\n",
            "La suma es:  10.0\n",
            "\n",
            "Bienvenido a la calculadora simple\n",
            "Sumar 1)\n",
            "Restar 2)\n",
            "Multiplicar 3)\n",
            "Dividir 4)\n",
            "Salir 5)\n",
            "Ingresa la opcion que desas utilizar:2\n",
            "Ingresa el primer numero: 10\n",
            "Ingresa el primer numero: 5\n",
            "La resta es:  5.0\n",
            "\n",
            "Bienvenido a la calculadora simple\n",
            "Sumar 1)\n",
            "Restar 2)\n",
            "Multiplicar 3)\n",
            "Dividir 4)\n",
            "Salir 5)\n",
            "Ingresa la opcion que desas utilizar:3\n",
            "Ingresa el primer numero: 5\n",
            "Ingresa el primer numero: 5\n",
            "La multipliacion es:  25.0\n",
            "\n",
            "Bienvenido a la calculadora simple\n",
            "Sumar 1)\n",
            "Restar 2)\n",
            "Multiplicar 3)\n",
            "Dividir 4)\n",
            "Salir 5)\n",
            "Ingresa la opcion que desas utilizar:4\n",
            "Ingresa el primer numero: 10\n",
            "Ingresa el primer numero: 5\n",
            "La divicion es:  2.0\n",
            "\n",
            "Bienvenido a la calculadora simple\n",
            "Sumar 1)\n",
            "Restar 2)\n",
            "Multiplicar 3)\n",
            "Dividir 4)\n",
            "Salir 5)\n",
            "Ingresa la opcion que desas utilizar:5\n",
            "Gracias por utilizar la calculadora simple\n"
          ]
        }
      ]
    }
  ]
}